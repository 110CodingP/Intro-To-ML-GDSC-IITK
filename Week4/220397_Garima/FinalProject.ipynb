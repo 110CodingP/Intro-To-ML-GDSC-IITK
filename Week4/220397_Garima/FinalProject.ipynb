{
 "cells": [
  {
   "cell_type": "code",
   "execution_count": 2,
   "id": "4ebdce08-bd6e-485c-8967-0b83bda1018c",
   "metadata": {},
   "outputs": [
    {
     "name": "stderr",
     "output_type": "stream",
     "text": [
      "2024-01-08 04:07:00.677741: I tensorflow/core/util/port.cc:113] oneDNN custom operations are on. You may see slightly different numerical results due to floating-point round-off errors from different computation orders. To turn them off, set the environment variable `TF_ENABLE_ONEDNN_OPTS=0`.\n",
      "2024-01-08 04:07:00.713662: I external/local_tsl/tsl/cuda/cudart_stub.cc:31] Could not find cuda drivers on your machine, GPU will not be used.\n",
      "2024-01-08 04:07:00.850625: E external/local_xla/xla/stream_executor/cuda/cuda_dnn.cc:9261] Unable to register cuDNN factory: Attempting to register factory for plugin cuDNN when one has already been registered\n",
      "2024-01-08 04:07:00.850679: E external/local_xla/xla/stream_executor/cuda/cuda_fft.cc:607] Unable to register cuFFT factory: Attempting to register factory for plugin cuFFT when one has already been registered\n",
      "2024-01-08 04:07:00.879591: E external/local_xla/xla/stream_executor/cuda/cuda_blas.cc:1515] Unable to register cuBLAS factory: Attempting to register factory for plugin cuBLAS when one has already been registered\n",
      "2024-01-08 04:07:00.938153: I external/local_tsl/tsl/cuda/cudart_stub.cc:31] Could not find cuda drivers on your machine, GPU will not be used.\n",
      "2024-01-08 04:07:00.939325: I tensorflow/core/platform/cpu_feature_guard.cc:182] This TensorFlow binary is optimized to use available CPU instructions in performance-critical operations.\n",
      "To enable the following instructions: AVX2 AVX_VNNI FMA, in other operations, rebuild TensorFlow with the appropriate compiler flags.\n",
      "2024-01-08 04:07:01.707341: W tensorflow/compiler/tf2tensorrt/utils/py_utils.cc:38] TF-TRT Warning: Could not find TensorRT\n"
     ]
    }
   ],
   "source": [
    "import tensorflow as tf\n",
    "import numpy as np\n",
    "from tensorflow import keras\n",
    "import sklearn as sk\n",
    "import os\n",
    "import cv2\n",
    "from tensorflow.keras.preprocessing.image import ImageDataGenerator\n",
    "from tensorflow.keras.preprocessing import image\n",
    "import matplotlib.pyplot as plt"
   ]
  },
  {
   "cell_type": "code",
   "execution_count": 3,
   "id": "ffc4bd7d-e631-4dbb-ad44-1884593af3ea",
   "metadata": {},
   "outputs": [],
   "source": [
    "train=ImageDataGenerator(rescale=1/255)\n",
    "test=ImageDataGenerator(rescale=1/255)"
   ]
  },
  {
   "cell_type": "code",
   "execution_count": 4,
   "id": "5e0a60d4-fa91-4da5-b969-e522f1d52235",
   "metadata": {},
   "outputs": [
    {
     "name": "stdout",
     "output_type": "stream",
     "text": [
      "Found 557 images belonging to 2 classes.\n",
      "Found 140 images belonging to 2 classes.\n"
     ]
    }
   ],
   "source": [
    "train_dataset=train.flow_from_directory(\"../train\",target_size=(150,150),batch_size=32,class_mode='binary')\n",
    "test_dataset=test.flow_from_directory(\"../test\",target_size=(150,150),batch_size=32,class_mode='binary')"
   ]
  },
  {
   "cell_type": "code",
   "execution_count": 5,
   "id": "89b9f646-4e16-4d7a-bf2a-df8c07ead9d3",
   "metadata": {},
   "outputs": [],
   "source": [
    "model=keras.Sequential()\n",
    "model.add(keras.layers.Conv2D(32,(3,3),activation='relu',input_shape=(150,150,3)))\n",
    "model.add(keras.layers.MaxPool2D(2,2))\n",
    "model.add(keras.layers.Conv2D(64,(3,3),activation='relu'))\n",
    "model.add(keras.layers.MaxPool2D(2,2))\n",
    "model.add(keras.layers.Conv2D(128,(3,3),activation='relu'))\n",
    "model.add(keras.layers.MaxPool2D(2,2))\n",
    "model.add(keras.layers.Conv2D(128,(3,3),activation='relu'))\n",
    "model.add(keras.layers.MaxPool2D(2,2))\n",
    "model.add(keras.layers.Flatten())\n",
    "model.add(keras.layers.Dense(512,activation='relu'))\n",
    "model.add(keras.layers.Dense(1,activation='sigmoid'))"
   ]
  },
  {
   "cell_type": "code",
   "execution_count": 6,
   "id": "d5dfe478-8ec5-44a3-83af-52e8104aa20a",
   "metadata": {},
   "outputs": [
    {
     "name": "stderr",
     "output_type": "stream",
     "text": [
      "/tmp/ipykernel_10722/908644709.py:2: UserWarning: `Model.fit_generator` is deprecated and will be removed in a future version. Please use `Model.fit`, which supports generators.\n",
      "  model.fit_generator(train_dataset,steps_per_epoch=18,epochs=23,validation_data=test_dataset)\n"
     ]
    },
    {
     "name": "stdout",
     "output_type": "stream",
     "text": [
      "Epoch 1/23\n",
      "18/18 [==============================] - 10s 495ms/step - loss: 0.7155 - accuracy: 0.5081 - val_loss: 0.6932 - val_accuracy: 0.5000\n",
      "Epoch 2/23\n",
      "18/18 [==============================] - 9s 478ms/step - loss: 0.6939 - accuracy: 0.4919 - val_loss: 0.6930 - val_accuracy: 0.5214\n",
      "Epoch 3/23\n",
      "18/18 [==============================] - 8s 463ms/step - loss: 0.6934 - accuracy: 0.4937 - val_loss: 0.6928 - val_accuracy: 0.5000\n",
      "Epoch 4/23\n",
      "18/18 [==============================] - 10s 533ms/step - loss: 0.6922 - accuracy: 0.5189 - val_loss: 0.6922 - val_accuracy: 0.5643\n",
      "Epoch 5/23\n",
      "18/18 [==============================] - 9s 480ms/step - loss: 0.6863 - accuracy: 0.5548 - val_loss: 0.7280 - val_accuracy: 0.5071\n",
      "Epoch 6/23\n",
      "18/18 [==============================] - 9s 481ms/step - loss: 0.6480 - accuracy: 0.6014 - val_loss: 0.7129 - val_accuracy: 0.5929\n",
      "Epoch 7/23\n",
      "18/18 [==============================] - 9s 493ms/step - loss: 0.6488 - accuracy: 0.6194 - val_loss: 0.6976 - val_accuracy: 0.5429\n",
      "Epoch 8/23\n",
      "18/18 [==============================] - 9s 483ms/step - loss: 0.6186 - accuracy: 0.6481 - val_loss: 0.6986 - val_accuracy: 0.5000\n",
      "Epoch 9/23\n",
      "18/18 [==============================] - 9s 479ms/step - loss: 0.5646 - accuracy: 0.7163 - val_loss: 0.7564 - val_accuracy: 0.5500\n",
      "Epoch 10/23\n",
      "18/18 [==============================] - 8s 456ms/step - loss: 0.5576 - accuracy: 0.7110 - val_loss: 0.7239 - val_accuracy: 0.5071\n",
      "Epoch 11/23\n",
      "18/18 [==============================] - 9s 482ms/step - loss: 0.4868 - accuracy: 0.7756 - val_loss: 0.7870 - val_accuracy: 0.6214\n",
      "Epoch 12/23\n",
      "18/18 [==============================] - 8s 467ms/step - loss: 0.4535 - accuracy: 0.7917 - val_loss: 0.8340 - val_accuracy: 0.5929\n",
      "Epoch 13/23\n",
      "18/18 [==============================] - 9s 466ms/step - loss: 0.4185 - accuracy: 0.8151 - val_loss: 0.8919 - val_accuracy: 0.6000\n",
      "Epoch 14/23\n",
      "18/18 [==============================] - 9s 486ms/step - loss: 0.3585 - accuracy: 0.8456 - val_loss: 0.9112 - val_accuracy: 0.6143\n",
      "Epoch 15/23\n",
      "18/18 [==============================] - 8s 452ms/step - loss: 0.2920 - accuracy: 0.8689 - val_loss: 1.2435 - val_accuracy: 0.6214\n",
      "Epoch 16/23\n",
      "18/18 [==============================] - 8s 450ms/step - loss: 0.2259 - accuracy: 0.8995 - val_loss: 1.2616 - val_accuracy: 0.6143\n",
      "Epoch 17/23\n",
      "18/18 [==============================] - 9s 481ms/step - loss: 0.3009 - accuracy: 0.8671 - val_loss: 1.1392 - val_accuracy: 0.6429\n",
      "Epoch 18/23\n",
      "18/18 [==============================] - 8s 464ms/step - loss: 0.2555 - accuracy: 0.8815 - val_loss: 1.1749 - val_accuracy: 0.6500\n",
      "Epoch 19/23\n",
      "18/18 [==============================] - 8s 466ms/step - loss: 0.1498 - accuracy: 0.9479 - val_loss: 1.4673 - val_accuracy: 0.6571\n",
      "Epoch 20/23\n",
      "18/18 [==============================] - 9s 476ms/step - loss: 0.0797 - accuracy: 0.9785 - val_loss: 1.7199 - val_accuracy: 0.6429\n",
      "Epoch 21/23\n",
      "18/18 [==============================] - 9s 475ms/step - loss: 0.0518 - accuracy: 0.9803 - val_loss: 1.9330 - val_accuracy: 0.6214\n",
      "Epoch 22/23\n",
      "18/18 [==============================] - 8s 454ms/step - loss: 0.0510 - accuracy: 0.9820 - val_loss: 2.3277 - val_accuracy: 0.6714\n",
      "Epoch 23/23\n",
      "18/18 [==============================] - 8s 451ms/step - loss: 0.0709 - accuracy: 0.9767 - val_loss: 2.1755 - val_accuracy: 0.6286\n"
     ]
    },
    {
     "data": {
      "text/plain": [
       "<keras.src.callbacks.History at 0x7f1d4c6991b0>"
      ]
     },
     "execution_count": 6,
     "metadata": {},
     "output_type": "execute_result"
    }
   ],
   "source": [
    "model.compile(optimizer='adam',loss='binary_crossentropy',metrics=['accuracy'])\n",
    "model.fit_generator(train_dataset,steps_per_epoch=18,epochs=23,validation_data=test_dataset)"
   ]
  },
  {
   "cell_type": "code",
   "execution_count": 9,
   "id": "11634f74-8edf-40b5-8cfd-e4129b2eac24",
   "metadata": {},
   "outputs": [
    {
     "name": "stdout",
     "output_type": "stream",
     "text": [
      "5/5 [==============================] - 1s 138ms/step\n"
     ]
    },
    {
     "data": {
      "text/plain": [
       "array([[1.34224549e-01],\n",
       "       [8.91437769e-01],\n",
       "       [4.76272963e-03],\n",
       "       [9.99819100e-01],\n",
       "       [6.79299096e-03],\n",
       "       [7.66336918e-03],\n",
       "       [9.17528450e-01],\n",
       "       [9.99962330e-01],\n",
       "       [9.71534550e-01],\n",
       "       [4.30425075e-07],\n",
       "       [1.86699945e-02],\n",
       "       [2.03750506e-02],\n",
       "       [5.76696293e-05],\n",
       "       [1.08467124e-01],\n",
       "       [2.74914000e-02],\n",
       "       [9.99991179e-01],\n",
       "       [8.34406674e-01],\n",
       "       [9.97282445e-01],\n",
       "       [9.86363649e-01],\n",
       "       [4.56835419e-01],\n",
       "       [3.70505813e-06],\n",
       "       [9.99886453e-01],\n",
       "       [7.04786301e-01],\n",
       "       [1.67592019e-02],\n",
       "       [3.30925651e-12],\n",
       "       [9.99011576e-01],\n",
       "       [4.48050909e-02],\n",
       "       [2.32630461e-01],\n",
       "       [6.55059591e-02],\n",
       "       [1.51389450e-01],\n",
       "       [9.93920207e-01],\n",
       "       [8.31347541e-04],\n",
       "       [9.99186814e-01],\n",
       "       [9.99999940e-01],\n",
       "       [1.08256722e-02],\n",
       "       [5.83221987e-02],\n",
       "       [5.83203316e-01],\n",
       "       [9.09651637e-01],\n",
       "       [9.99984503e-01],\n",
       "       [1.81969540e-07],\n",
       "       [2.31540352e-01],\n",
       "       [9.98775959e-01],\n",
       "       [9.99653816e-01],\n",
       "       [1.13770618e-07],\n",
       "       [9.99950767e-01],\n",
       "       [9.96493220e-01],\n",
       "       [9.94637251e-01],\n",
       "       [9.93550360e-01],\n",
       "       [9.99875426e-01],\n",
       "       [9.85356092e-01],\n",
       "       [2.14265492e-05],\n",
       "       [9.99861717e-01],\n",
       "       [8.10949862e-01],\n",
       "       [9.99878168e-01],\n",
       "       [4.29330915e-01],\n",
       "       [3.63233715e-01],\n",
       "       [7.45120496e-02],\n",
       "       [9.60910256e-07],\n",
       "       [2.30403289e-01],\n",
       "       [9.99552608e-01],\n",
       "       [1.00380115e-01],\n",
       "       [9.99948263e-01],\n",
       "       [1.77123308e-01],\n",
       "       [8.40562820e-01],\n",
       "       [9.11938306e-03],\n",
       "       [9.99651134e-01],\n",
       "       [5.29270247e-02],\n",
       "       [9.13256109e-01],\n",
       "       [9.83969808e-01],\n",
       "       [9.99976456e-01],\n",
       "       [9.98728454e-01],\n",
       "       [1.40238539e-04],\n",
       "       [3.04215223e-01],\n",
       "       [9.99993443e-01],\n",
       "       [5.84997348e-02],\n",
       "       [8.01827312e-01],\n",
       "       [8.57246459e-01],\n",
       "       [9.99957860e-01],\n",
       "       [9.98395860e-01],\n",
       "       [2.53439691e-09],\n",
       "       [1.75827026e-01],\n",
       "       [9.68186975e-01],\n",
       "       [2.37637222e-01],\n",
       "       [4.25955523e-06],\n",
       "       [2.49758512e-02],\n",
       "       [6.65218744e-04],\n",
       "       [6.19239271e-01],\n",
       "       [9.98700082e-01],\n",
       "       [4.66455698e-01],\n",
       "       [1.00000000e+00],\n",
       "       [9.97732162e-01],\n",
       "       [9.99784052e-01],\n",
       "       [9.99067128e-01],\n",
       "       [1.60080269e-01],\n",
       "       [9.77761209e-01],\n",
       "       [9.99996006e-01],\n",
       "       [7.59534359e-01],\n",
       "       [6.56652570e-01],\n",
       "       [2.21931492e-03],\n",
       "       [5.33720769e-04],\n",
       "       [9.99811053e-01],\n",
       "       [2.24241704e-01],\n",
       "       [9.99878824e-01],\n",
       "       [2.62601167e-01],\n",
       "       [9.91671205e-01],\n",
       "       [4.05702316e-08],\n",
       "       [9.99999881e-01],\n",
       "       [9.99867141e-01],\n",
       "       [9.99932289e-01],\n",
       "       [9.75030959e-01],\n",
       "       [9.99846935e-01],\n",
       "       [1.85639528e-03],\n",
       "       [4.34041159e-09],\n",
       "       [9.99597132e-01],\n",
       "       [1.37833476e-01],\n",
       "       [2.25723699e-01],\n",
       "       [2.32812017e-01],\n",
       "       [9.60355878e-01],\n",
       "       [3.03272245e-04],\n",
       "       [7.42716182e-08],\n",
       "       [9.84030902e-01],\n",
       "       [1.55020896e-02],\n",
       "       [6.91046225e-08],\n",
       "       [5.53140941e-04],\n",
       "       [1.61192685e-04],\n",
       "       [2.75852561e-01],\n",
       "       [9.99658108e-01],\n",
       "       [1.12209572e-02],\n",
       "       [9.98971879e-01],\n",
       "       [9.95984495e-01],\n",
       "       [9.99009490e-01],\n",
       "       [9.07616377e-01],\n",
       "       [1.29704758e-05],\n",
       "       [1.53987827e-08],\n",
       "       [3.71873307e-06],\n",
       "       [1.30816894e-02],\n",
       "       [9.99999285e-01],\n",
       "       [7.47343838e-01],\n",
       "       [7.59174347e-01],\n",
       "       [8.93891230e-02]], dtype=float32)"
      ]
     },
     "execution_count": 9,
     "metadata": {},
     "output_type": "execute_result"
    }
   ],
   "source": [
    "preds=model.predict(test_dataset)\n"
   ]
  },
  {
   "cell_type": "code",
   "execution_count": 7,
   "id": "0585f83c-25fe-4998-b31e-09a964f2583d",
   "metadata": {},
   "outputs": [
    {
     "ename": "SyntaxError",
     "evalue": "f-string: invalid syntax (551444497.py, line 2)",
     "output_type": "error",
     "traceback": [
      "\u001b[0;36m  Cell \u001b[0;32mIn[7], line 2\u001b[0;36m\u001b[0m\n\u001b[0;31m    print(f\"f1 score is {f1_score(,)}\")\u001b[0m\n\u001b[0m              ^\u001b[0m\n\u001b[0;31mSyntaxError\u001b[0m\u001b[0;31m:\u001b[0m f-string: invalid syntax\n"
     ]
    }
   ],
   "source": [
    "from sklearn.metrics import f1_score,accuracy_score\n",
    "print(f\"f1 score is {f1_score(preds,)}\")\n",
    "print(f\"accuracy is {accuracy_score(preds,)}\")"
   ]
  }
 ],
 "metadata": {
  "kernelspec": {
   "display_name": "Python 3 (ipykernel)",
   "language": "python",
   "name": "python3"
  },
  "language_info": {
   "codemirror_mode": {
    "name": "ipython",
    "version": 3
   },
   "file_extension": ".py",
   "mimetype": "text/x-python",
   "name": "python",
   "nbconvert_exporter": "python",
   "pygments_lexer": "ipython3",
   "version": "3.10.12"
  }
 },
 "nbformat": 4,
 "nbformat_minor": 5
}
